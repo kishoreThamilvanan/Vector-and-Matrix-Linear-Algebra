{
 "cells": [
  {
   "cell_type": "markdown",
   "metadata": {},
   "source": [
    "# CSE351\n",
    "## HW1\n",
    "##  Due: June 9th at 11.59 pm\n",
    "\n",
    "\n",
    "\n",
    "#### Provide the codes and explanation all  in this   .ipynb file such that we can run it on Jupyter notebook.  When this file is run all outputs should be printed out. Make sure your file is bug-free otherwise you won't get credit. Upload the file on Blackboard in Assignments on due date. \n",
    "\n",
    " **Note**: If you are not familiar with Numpy the below links help you\n",
    " to write the codes easily\n",
    "- CSE351_L1.ipynb\n",
    "- CSE351_L1.ipynb\n",
    "- [Link 1](https://www.python-course.eu/matrix_arithmetic.php)\n",
    "- [Link 2](https://www.oreilly.com/library/view/machine-learning-with/9781491989371/ch01.html)\n",
    "- [Link 3](http://www2.lawrence.edu/fast/GREGGJ/Python/numpy/numpyLA.html)\n",
    "\n",
    "- [Link 4](https://www.math.ubc.ca/~pwalls/math-python/linear-algebra/linear-algebra-scipy/)\n"
   ]
  },
  {
   "cell_type": "markdown",
   "metadata": {
    "collapsed": true
   },
   "source": [
    "**Q1**. Consider vector $x=[10,20]$ and matrix \n",
    "$S=\\begin{bmatrix}\n",
    "    3& 6  \\\\\n",
    "    4& 8 \\\\\n",
    "\\end{bmatrix}$\n",
    "- Compute $S\\times x^T$ where $\\times$ denotes matrix multiplication\n",
    "- Compute the inverse of $S$\n",
    "- Compute the trace of $S$\n",
    "- Are the columns of $X$ linearly independent? explain\n",
    "- What is the rank of $X$\n",
    "- Compute $x \\times S^{-1}\\times x^T$ where $S^{-1}$ is inverse of $S$\n",
    "- Write a code to calculate the inner product of the first and second column of $S$. You cannot use any loops and only allow to use matrix or vector operations.\n",
    "- Calculate the norm of $S$\n",
    "- Compute the mean of $X$ using inner product and $1$ vector\n",
    "- If $y=[10,3]$, compute the Euclidean distance $x-y$\n",
    "- We want to scale the element of $x$ differently ---10 by 2 and 3 by 4 and sum the elements of the resulting vector. using vector operation perform the calculation \n",
    "    \n"
   ]
  },
  {
   "cell_type": "markdown",
   "metadata": {},
   "source": [
    "**Q2**. Currency exchange matrix. We consider a set of n currencies, \n",
    "labeled $1,...,n$. (These might correspond to USD, RMB, EUR, and so on.) At a particular time the exchange or conversion rates among the n currencies are given by an $n \\times n$ (exchange rate) matrix $R$, where $R_{ij}$ is the amount of currency $i$ that you can buy for one unit of currency $j$. (All entries of $R$ are positive.) The exchange rates include commission charges, so we have $R_{ji}R_{ij}< 1$ forall$i\\not\\equiv j$. You can assume that$R_{ii} =1$.\n",
    "Suppose $y = R x$, where $x$ is a vector (with nonnegative entries) that \n",
    "represents the amounts of the currencies that we hold. What is $y_i$? \n",
    "Your answer should be in English no code needed."
   ]
  },
  {
   "cell_type": "code",
   "execution_count": null,
   "metadata": {
    "collapsed": true
   },
   "outputs": [],
   "source": []
  }
 ],
 "metadata": {
  "kernelspec": {
   "display_name": "Python 3",
   "language": "python",
   "name": "python3"
  },
  "language_info": {
   "codemirror_mode": {
    "name": "ipython",
    "version": 3
   },
   "file_extension": ".py",
   "mimetype": "text/x-python",
   "name": "python",
   "nbconvert_exporter": "python",
   "pygments_lexer": "ipython3",
   "version": "3.7.3"
  }
 },
 "nbformat": 4,
 "nbformat_minor": 2
}
